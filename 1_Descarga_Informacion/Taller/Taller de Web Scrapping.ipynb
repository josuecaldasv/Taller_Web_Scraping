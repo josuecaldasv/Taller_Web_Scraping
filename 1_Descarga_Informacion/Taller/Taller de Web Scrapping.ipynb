{
 "cells": [
  {
   "cell_type": "markdown",
   "id": "de23ac5d-af67-42c4-91fd-7f8699919d3b",
   "metadata": {},
   "source": [
    "# CONTENIDO"
   ]
  },
  {
   "cell_type": "markdown",
   "id": "e9fb79da-6465-479e-a3ef-42e885c91708",
   "metadata": {},
   "source": [
    "- <a href='#t1'>1. ¿QUÉ ES WEB SCRAPING?</a> \n",
    "- <a href='#t2'>2. LIBRERÍAS</a> \n",
    "     - <a href='#2.1.'>2.1. Instalar librerías</a>\n",
    "     - <a href='#2.2.'>2.2. Importar librerías</a>\n",
    "- <a href='#t3'>3. FIJAR EL DRIVER</a> \n",
    "     - <a href='#3.1.'>3.1. Lanzar un Chrome Driver</a>\n",
    "     - <a href='#3.2.'>3.2. Primeras operaciones</a>\n",
    "- <a href='#t4'>4. LENGUAJE HTML</a> \n",
    "     - <a href='#4.1.'>4.1. Introducción</a>\n",
    "     - <a href='#4.2.'>4.2. Párrafos</a>\n",
    "     - <a href='#4.3.'>4.3. Links</a>\n",
    "     - <a href='#4.4.'>4.4. Tablas</a>\n",
    "     - <a href='#4.5.'>4.5. Iframes</a>\n",
    "     - <a href='#4.6.'>4.6. Resumen de tags</a>\n",
    "- <a href='#t5'>5. SELECCIÓN DE ELEMENTOS</a> \n",
    "     - <a href='#5.1.'>5.1. Selección de un elemento</a>\n",
    "     - <a href='#5.2.'>5.2. Selección de múltiples elementos</a>\n",
    "     - <a href='#5.3.'>5.3. Ejemplo práctico</a>\n",
    "- <a href='#t6'>6. MANEJO DE TIEMPOS</a> \n",
    "     - <a href='#6.1.'>6.1. Time sleep</a>\n",
    "     - <a href='#6.2.'>6.2. Esperas explícitas</a>     \n",
    "- <a href='#t7'>7. APUNTES IMPORTANTES</a> \n",
    "     - <a href='#7.1.'>7.1. Iframes</a>\n",
    "     - <a href='#7.2.'>7.2. Maximize driver</a>  \n",
    "     - <a href='#7.3.'>7.3. Bloques try-except</a>  "
   ]
  },
  {
   "cell_type": "markdown",
   "id": "45d75332-1609-4e79-aad4-86e47a22c6ae",
   "metadata": {},
   "source": [
    "#  <a id='t1'>1. ¿QUÉ ES WEB SCRAPING?</a>"
   ]
  },
  {
   "cell_type": "markdown",
   "id": "19b82fec-97f5-447a-a403-9996ece6a7bf",
   "metadata": {},
   "source": [
    "Es el proceso de extraer datos de sitios web de manera automatizada. Incluye los siguientes pasos:\n",
    "\n",
    "| Paso | Descripción |\n",
    "|--|--|\n",
    "|1. Identificación del sitio web|Implica conocer la información que se requiere, y verificar que el sitio web seleccionado contenga dicha información |\n",
    "2. Inspección de la estructura | Implica explorar e inspeccionar la estructura y organización del código HTML del sitio web |\n",
    "3. Selección de la herramienta | Implica seleccionar una herramienta que permita realizar el proceso de Web Scraping. En Python, algunas herramientas populares son BeautifulSoup y Selenium |\n",
    "4. Escritura del código | Utilizando la herramienta seleccionada, se escriben las instrucciones que permiten acceder y descargar la información de la página web |\n",
    "5. Testeo | Si bien el primer script puede parecer funcional, siempre surgen errores e imprevistos que es necesario mapear y solucionar hasta llegar a la solución más eficaz |\n",
    "5. Extracción de datos | Una vez escrita la versión definitiva del script, implica ejecutarlo hasta el final |\n",
    "6. Almacenamiento o procesamiento de datos | Implica organizar, y procesar la información, de tal forma que se encuentre lista para su uso |"
   ]
  },
  {
   "cell_type": "markdown",
   "id": "4a1eb5f3-d82f-43ce-aed8-9b7a7f8180cf",
   "metadata": {},
   "source": [
    "<img src=\"webscraping.png\" alt=\"image info\" />"
   ]
  },
  {
   "cell_type": "markdown",
   "id": "50ae7e96-b0cf-449c-9bc0-a0a9fe172ca6",
   "metadata": {},
   "source": [
    "# 2. <a id='t2'>LIBRERÍAS</a>"
   ]
  },
  {
   "cell_type": "markdown",
   "id": "2b2736cb-4161-452c-94cb-fab79fe161cd",
   "metadata": {},
   "source": [
    "## 2.1. <a id='2.1.'>Instalar librerías</a>"
   ]
  },
  {
   "cell_type": "code",
   "execution_count": null,
   "id": "2ff08393-91c0-41c2-9f0f-42bef279aa7a",
   "metadata": {},
   "outputs": [],
   "source": [
    "# !pip install selenium\n",
    "# !pip install webdriver-manager"
   ]
  },
  {
   "cell_type": "markdown",
   "id": "50192f56-3044-4973-a6f4-d5be39bac1a2",
   "metadata": {},
   "source": [
    "## 2.2. <a id='2.2.'>Importar librerías</a>"
   ]
  },
  {
   "cell_type": "code",
   "execution_count": null,
   "id": "51654d60-3066-4198-9a26-d186bda9da44",
   "metadata": {},
   "outputs": [],
   "source": [
    "# Selenium\n",
    "from selenium import webdriver\n",
    "from webdriver_manager.chrome import ChromeDriverManager\n",
    "from selenium.webdriver.chrome.service import Service\n",
    "from selenium.webdriver.common.action_chains import ActionChains\n",
    "\n",
    "# Options driver\n",
    "from selenium.webdriver.chrome.options import Options\n",
    "from selenium.webdriver.support.ui import Select\n",
    "\n",
    "# Dataframes\n",
    "import pandas as pd\n",
    "import itertools\n",
    "import json\n",
    "import re\n",
    "import numpy as np\n",
    "import itertools\n",
    "from pandas import json_normalize\n",
    "import unidecode\n",
    "\n",
    "# Simulating human behavior\n",
    "import datetime\n",
    "import time\n",
    "from time import sleep\n",
    "import random\n",
    "\n",
    "# To use explicit waits\n",
    "from selenium.webdriver.common.by import By\n",
    "from selenium.webdriver.support.ui import WebDriverWait\n",
    "from selenium.webdriver.support import expected_conditions as EC\n",
    "\n",
    "# Download files and directories\n",
    "import urllib.request\n",
    "import requests\n",
    "from openpyxl import Workbook\n",
    "import os\n",
    "from glob import glob"
   ]
  },
  {
   "cell_type": "markdown",
   "id": "2bca02dc-94b6-4a44-88bd-55bf0ead2ab9",
   "metadata": {},
   "source": [
    "# <a id='t3'>3. FIJAR EL DRIVER</a> "
   ]
  },
  {
   "cell_type": "markdown",
   "id": "2ac45f13-3875-45d2-9e02-f22f2253041c",
   "metadata": {},
   "source": [
    "## <a id='3.1.'>3.1. Lanzar un Chrome Driver</a>"
   ]
  },
  {
   "cell_type": "code",
   "execution_count": null,
   "id": "c2c7bb45-f036-466a-86f3-874c97ecffb5",
   "metadata": {},
   "outputs": [],
   "source": [
    "# Setear el Chrome Driver Manager\n",
    "service = Service( ChromeDriverManager().install( ) )\n",
    "driver = webdriver.Chrome( service = service )\n",
    "driver.maximize_window()\n",
    "\n",
    "# Setear la URL\n",
    "url = f'https://appbp.contraloria.gob.pe/BuscadorCGR/Informes/Avanzado.html'\n",
    "driver.get( url )"
   ]
  },
  {
   "cell_type": "markdown",
   "id": "130560f3-facc-45e9-8468-3b242cd51ef7",
   "metadata": {},
   "source": [
    "## <a id='3.2.'>3.2. Primeras operaciones</a>"
   ]
  },
  {
   "cell_type": "code",
   "execution_count": null,
   "id": "db37adf1-b248-4d55-ae4b-43bf037b0a05",
   "metadata": {},
   "outputs": [],
   "source": [
    "# Acceder al título\n",
    "titulo_ct = driver.title\n",
    "print( f'Título: { titulo_ct }' )"
   ]
  },
  {
   "cell_type": "code",
   "execution_count": null,
   "id": "5790af37-8b5d-4b11-b0d7-1c54e865a0c0",
   "metadata": {},
   "outputs": [],
   "source": [
    "# Acceder a la URL\n",
    "url_ct = driver.current_url\n",
    "print( f'URL actual: { url_ct }' )"
   ]
  },
  {
   "cell_type": "code",
   "execution_count": null,
   "id": "7acb1b02-e574-4ba4-bd60-f2eb9021dc6b",
   "metadata": {},
   "outputs": [],
   "source": [
    "# Guardar un screenshot\n",
    "driver.save_screenshot( 'screenshot.png' )"
   ]
  },
  {
   "cell_type": "code",
   "execution_count": null,
   "id": "eeebf1d2-8774-4e15-9425-4a48837e670b",
   "metadata": {},
   "outputs": [],
   "source": [
    "# Refrescar la página\n",
    "driver.refresh()"
   ]
  },
  {
   "cell_type": "code",
   "execution_count": null,
   "id": "9a81ff64-5c93-4375-b2b4-74080eb17dce",
   "metadata": {},
   "outputs": [],
   "source": [
    "# Maximizar la página\n",
    "driver.maximize_window()"
   ]
  },
  {
   "cell_type": "code",
   "execution_count": null,
   "id": "bf70917f-b75a-4475-bb92-4e62ed26f3f0",
   "metadata": {},
   "outputs": [],
   "source": [
    "# Cerrar todas las sesiones de web driver\n",
    "driver.quit()"
   ]
  },
  {
   "cell_type": "markdown",
   "id": "4bd784b9-258a-4b7e-a195-75a7b4ad26b1",
   "metadata": {},
   "source": [
    "# <a id='t4'>4. LENGUAJE HTML</a> "
   ]
  },
  {
   "cell_type": "markdown",
   "id": "45c5a8c1-a208-469a-a222-14f97ff5789c",
   "metadata": {},
   "source": [
    "## <a id='4.1.'>4.1. Introducción</a>"
   ]
  },
  {
   "cell_type": "markdown",
   "id": "80e93f14-6f95-40ed-beb7-3e1debdcbd8a",
   "metadata": {},
   "source": [
    "HTML (HyperText Markup Language) es el lenguaje de marcado estándar utilizado para crear páginas web. Se compone de etiquetas y elementos que estructuran el contenido de una página, como encabezados, párrafos, enlaces, imágenes, formularios, entre otros.\n",
    "\n",
    "El conocimiento de HTML es importante para el web scraping porque esta técnica consiste en extraer información de páginas web de forma automatizada. Al comprender HTML, es posible identificar los elementos relevantes en la estructura de una página, como los contenedores de datos, las etiquetas y los atributos específicos que contienen la información que deseas extraer."
   ]
  },
  {
   "cell_type": "markdown",
   "id": "3add0390-b6f4-40aa-893e-f828ee8da450",
   "metadata": {},
   "source": [
    "1. Los documentos HTML siempre inician con `<html>` y finalizan con `</html>`.\n",
    "2. Los tags HTML siempre inician con esta estructura `<tag>` y finalizan con esta estructura `</tag>`.\n",
    "2. `<body></body>` constituyen la parte visible de los documentos HTML."
   ]
  },
  {
   "cell_type": "markdown",
   "id": "0c8ed27d-b7aa-4f72-99c0-feac9f2cc7bc",
   "metadata": {},
   "source": [
    "## <a id='4.4.'>3.2. Párrafos</a>"
   ]
  },
  {
   "cell_type": "markdown",
   "id": "897a6cc4-94c3-4809-b092-26c87c022ae4",
   "metadata": {},
   "source": [
    "Los párrafos HTML se define con el tag `<p>`:"
   ]
  },
  {
   "cell_type": "markdown",
   "id": "0d957bc3-d69b-4721-af7b-3357e6834f45",
   "metadata": {},
   "source": [
    "<html>\n",
    "<p>Hola.</p>\n",
    "<html>"
   ]
  },
  {
   "cell_type": "markdown",
   "id": "af98aee6-a0d8-40a9-aa94-8f7da6270b0a",
   "metadata": {},
   "source": [
    "Los saltos de línea HTML se definen como el tag `<br>`:"
   ]
  },
  {
   "cell_type": "markdown",
   "id": "5bdb07b9-6ca2-4f97-95c8-172876fedfeb",
   "metadata": {},
   "source": [
    "<html>\n",
    "<p>Hola.</p><br>\n",
    "<p>¿Cómo se encuentran?</p>\n",
    "<html>"
   ]
  },
  {
   "cell_type": "markdown",
   "id": "62f91b75-3a78-4cc4-8ffd-5de8fdb43457",
   "metadata": {},
   "source": [
    "## <a id='4.3.'>4.3. Links</a>"
   ]
  },
  {
   "cell_type": "markdown",
   "id": "1ba0ba39-5c02-4de4-a807-590734f798f5",
   "metadata": {},
   "source": [
    "Los links HTML se define con el tag `<a>`:"
   ]
  },
  {
   "cell_type": "markdown",
   "id": "aa459fa6-c2da-4fd8-bbaf-3f89e2272530",
   "metadata": {},
   "source": [
    "<a href=\"https://appbp.contraloria.gob.pe/BuscadorCGR/Informes/Avanzado.html\">Link del buscador de informes de la Contraloría</a>"
   ]
  },
  {
   "cell_type": "markdown",
   "id": "465c2777-2976-4ef6-a212-73f580422618",
   "metadata": {},
   "source": [
    "## <a id='4.4.'>4.4. Tablas</a>"
   ]
  },
  {
   "cell_type": "markdown",
   "id": "57f32fdc-940c-4c46-bf56-816046a07f6f",
   "metadata": {},
   "source": [
    "Las tablas HTML consisten en celdas dentro de filas y columnas.\n",
    "1. Las tablas HTML se definen con el tag `<table>`.\n",
    "1. Las filas se definen con el tag `<tr>`.  \n",
    "2. Los encabezados de las columnas se definen con el tag `<th>`.\n",
    "3. Las celdas de datos se definen con el tag `<td>`."
   ]
  },
  {
   "cell_type": "markdown",
   "id": "34befeb9-b98c-4518-b513-6abd9e236c92",
   "metadata": {},
   "source": [
    "<table>\n",
    "  <tr>\n",
    "    <th>Variable 1</th>\n",
    "    <th>Variable 2</th>\n",
    "    <th>Variable 3</th>\n",
    "  </tr>\n",
    "  <tr>\n",
    "    <td>Dato 1</td>\n",
    "    <td>Dato 2</td>\n",
    "    <td>Dato 3</td>\n",
    "  </tr>\n",
    "  <tr>\n",
    "    <td>Dato 4</td>\n",
    "    <td>Dato 5</td>\n",
    "    <td>Dato 6</td>\n",
    "  </tr>\n",
    "</table>"
   ]
  },
  {
   "cell_type": "markdown",
   "id": "f9995067-5363-49d0-93f2-8ac7adc962b7",
   "metadata": {},
   "source": [
    "## <a id='4.5.'>4.5. Iframes</a>"
   ]
  },
  {
   "cell_type": "markdown",
   "id": "bfe3a3af-74df-4fd9-b457-70a4ffdc9431",
   "metadata": {},
   "source": [
    "Se utilizan para incrustar otro documento HTML dentro de la página actual. Esencialmente, permite mostrar contenido de otra página web dentro de una ventana del navegador."
   ]
  },
  {
   "cell_type": "markdown",
   "id": "41be2424-e097-4fc0-8941-57f0f89128ea",
   "metadata": {},
   "source": [
    "<!DOCTYPE html>\n",
    "<html>\n",
    "<head>\n",
    "  <title>Ejemplo de Iframe</title>\n",
    "</head>\n",
    "<body>\n",
    "  <h1>Página principal</h1>\n",
    "  <p>A continuación se incluye un iframe incrustado:</p>\n",
    "  <iframe src=\"https://www.google.com\" width=\"800\" height=\"600\" frameborder=\"0\"></iframe>\n",
    "  <p>Fin del iframe</p>\n",
    "</body>\n",
    "</html>"
   ]
  },
  {
   "cell_type": "markdown",
   "id": "9d04e330-8ae9-4dc5-a794-6d5a296c6dbb",
   "metadata": {},
   "source": [
    "## <a id='4.6.'>4.6. Resumen de tags</a>"
   ]
  },
  {
   "cell_type": "markdown",
   "id": "87b8fc50-dbc5-4fd6-a7e8-fa965dd4fd22",
   "metadata": {},
   "source": [
    "| Tag |\tDescripción |\n",
    "|---|---|\n",
    "|`<html>` |Define el comienzo y el final de un documento HTML |\n",
    "|`head` |Contiene información meta sobre el documento HTML |   \n",
    "|`<title>` |\tDefine el título del documento HTML |\n",
    "|`<body>` | Contiene el contenido visible del documento HTML |\n",
    "|`<span>` | Define una sección en línea o un fragmento de texto |\n",
    "|`<h1>` a `<h6>`|\tDefine encabezados HTML en orden de importancia |\n",
    "|`<p>` | Define un párrafo |\n",
    "| `<a>` | Crea un enlace a otra página |\n",
    "| `<img>` | Muestra una imagen en el documento |\n",
    "| `<table>` | Crea una tabla con filas y columnas |\n",
    "| `<tr>` | Define una fila en una tabla |\n",
    "| `<th>` | Define una celda de encabezado en una tabla |\n",
    "| `<td>` | Define una celda de datos en una tabla |\n",
    "| `<ul>` | Crea una lista desordenada |\n",
    "| `<ol>` | Crea una lista ordenada |\n",
    "| `<li>` | Define un elemento de lista |\n",
    "|`<input>`| Crea un campo de entrada en un formulario |\n",
    "| `<button>` | Crea un botón interactivo |\n",
    "| `<option>` |  Define una opción de menú desplegable |\n",
    "| `<label>` | Etiqueta para un elemento de formulario |\n",
    "| `<iframe>` | Incrusta contenido de otro documento HTML dentro de la página |"
   ]
  },
  {
   "cell_type": "markdown",
   "id": "87ac5cd0-1cb7-4630-9c2c-a03d49577831",
   "metadata": {},
   "source": [
    "# <a id='t5'>5. SELECCIÓN DE ELEMENTOS</a>"
   ]
  },
  {
   "cell_type": "markdown",
   "id": "85c3e147-7c98-4119-bcf9-4c5e41ce9b67",
   "metadata": {},
   "source": [
    "## <a id='5.1.'>5.1. Selección de un elemento</a>"
   ]
  },
  {
   "cell_type": "markdown",
   "id": "212433a8-ad8a-4b73-ac22-8a086d99b28c",
   "metadata": {},
   "source": [
    "|Método|Descripción|\n",
    "|---|---|\n",
    "|find_element( By.ID, \"id\" ) | Se usa  id|\n",
    "|find_element( By.NAME, \"name\" ) | Se usa name|\n",
    "|find_element( By.XPATH, \"xpath\" ) | Se usa Xpath|\n",
    "|find_element( By.TAG_NAME, \"tag name\" ) | Se usa HTML tag|\n",
    "|find_element( By.CLASS_NAME, \"class name\" ) | Se usa class name|\n",
    "|find_element( By.CSS_SELECTOR, \"css selector\" )| Se usa selector|"
   ]
  },
  {
   "cell_type": "markdown",
   "id": "49ad6075-6fcf-4096-b791-a849b145dbe4",
   "metadata": {},
   "source": [
    "### 5.1.1. Ejemplo de selección de un elemento por id"
   ]
  },
  {
   "cell_type": "markdown",
   "id": "80f0c891-58a9-4991-bc2c-a6e39cbdb31c",
   "metadata": {},
   "source": [
    "Considérese un documento HTML como el siguiente"
   ]
  },
  {
   "cell_type": "markdown",
   "id": "d0e050fc-0457-473d-80f3-fa952c290162",
   "metadata": {},
   "source": [
    "<html>\n",
    "<head>\n",
    "  <title>FORMULARIO</title>\n",
    "</head>\n",
    "<body>\n",
    "  <form id=\"loginForm\">\n",
    "    <input name=\"username\" type=\"text\" />\n",
    "    <input name=\"password\" type=\"password\" />\n",
    "    <input name=\"continue\" type=\"submit\" value=\"Login\" />\n",
    "  </form>\n",
    "</body>\n",
    "</html>"
   ]
  },
  {
   "cell_type": "markdown",
   "id": "1e796fb8-64cb-4601-b2ed-e568f5c5f886",
   "metadata": {},
   "source": [
    "La forma de localizar el formulario mediante id sería:"
   ]
  },
  {
   "cell_type": "code",
   "execution_count": null,
   "id": "776b0bed-a238-42ff-8976-b794e7d58b4a",
   "metadata": {},
   "outputs": [],
   "source": [
    "# ----------------------- NO SE EJECUTA -------------------------- #\n",
    "login_form = driver.find_element( By.ID, 'loginForm' )\n",
    "# ----------------------- NO SE EJECUTA -------------------------- #"
   ]
  },
  {
   "cell_type": "markdown",
   "id": "4b952b12-10b0-4673-b78d-ee52edbe2f2d",
   "metadata": {},
   "source": [
    "### 5.1.2. Ejemplo de selección de un elemento por Xpath"
   ]
  },
  {
   "cell_type": "markdown",
   "id": "24ed2c23-5996-4e97-b6fb-b2359ebddd87",
   "metadata": {},
   "source": [
    "<img src=\"xpath.png\" alt=\"image info\" />"
   ]
  },
  {
   "cell_type": "markdown",
   "id": "44a5297f-46ed-4088-988a-bb4d12ca757c",
   "metadata": {},
   "source": [
    "<html>\n",
    "<body>\n",
    "  <h1>SELECTOR</h1>\n",
    "  <button id=\"myButton\">Haz clic aquí</button>\n",
    "</body>\n",
    "</html>"
   ]
  },
  {
   "cell_type": "markdown",
   "id": "c91cae39-1e24-4cac-9997-a45d5508f1da",
   "metadata": {},
   "source": [
    "La forma de localizar el formulario mediante Xpath sería:"
   ]
  },
  {
   "cell_type": "code",
   "execution_count": null,
   "id": "7012db75-face-4e82-8a08-fac4806bc92d",
   "metadata": {
    "tags": []
   },
   "outputs": [],
   "source": [
    "# ----------------------- NO SE EJECUTA -------------------------- #\n",
    "boton = driver.find_element( By.ID, '//button[@id=\"myButton\"]' )\n",
    "# ----------------------- NO SE EJECUTA -------------------------- #"
   ]
  },
  {
   "cell_type": "markdown",
   "id": "346224e2-1e81-4133-838e-baec4e6b3384",
   "metadata": {},
   "source": [
    "## <a id='5.2.'>5.2. Selección de múltiples elementos</a>"
   ]
  },
  {
   "cell_type": "markdown",
   "id": "e8bf3e23-fd78-4096-b653-87cbebde4a5a",
   "metadata": {},
   "source": [
    "|Método|Descripción|\n",
    "|---|---|\n",
    "|find_elements( By.ID, \"id\" ) | Se usa  id|\n",
    "|find_elements( By.NAME, \"name\" ) | Se usa name|\n",
    "|find_elements( By.XPATH, \"xpath\" ) | Se usa Xpath|\n",
    "|find_elements( By.TAG_NAME, \"tag name\" ) | Se usa HTML tag|\n",
    "|find_elements( By.CLASS_NAME, \"class name\" ) | Se usa class name|\n",
    "|find_elements( By.CSS_SELECTOR, \"css selector\" )| Se usa selector|"
   ]
  },
  {
   "cell_type": "markdown",
   "id": "7583423b-0f6c-4959-b736-5786763e3a24",
   "metadata": {},
   "source": [
    "### 5.2.1. Ejemplo de selección de un elemento por Xpath"
   ]
  },
  {
   "cell_type": "markdown",
   "id": "8a260055-89fd-4943-a4e0-6f0de1396b6f",
   "metadata": {},
   "source": [
    "<html>\n",
    "<body>\n",
    "  <h1>ELEMENTOS</h1>\n",
    "  <ol id=\"myList\">\n",
    "    <li>Elemento 1</li>\n",
    "    <li>Elemento 2</li>\n",
    "    <li>Elemento 3</li>\n",
    "  </ol>\n",
    "</body>\n",
    "</html>"
   ]
  },
  {
   "cell_type": "markdown",
   "id": "e649b6b9-f71b-4e49-9ba1-6c16c2e59a35",
   "metadata": {},
   "source": [
    "La forma de localizar los elementos mediante su Xpath sería:"
   ]
  },
  {
   "cell_type": "code",
   "execution_count": null,
   "id": "4e16b528-4a15-4dff-bcc5-748a0e783b17",
   "metadata": {},
   "outputs": [],
   "source": [
    "# ----------------------- NO SE EJECUTA -------------------------- #\n",
    "elements = driver.find_elements( By.XPATH, '//ol[@id=\"myList\"]/li' )\n",
    "for element in elements:\n",
    "    print( element.text )\n",
    "# ----------------------- NO SE EJECUTA -------------------------- #"
   ]
  },
  {
   "cell_type": "markdown",
   "id": "06d3653e-11f1-4973-ab17-a542a8cdcebb",
   "metadata": {},
   "source": [
    "## <a id='5.3.'>5.3. Ejemplo práctico</a>"
   ]
  },
  {
   "cell_type": "code",
   "execution_count": null,
   "id": "0101ab3d-f9fc-43b0-8b33-8d8be02a9ea9",
   "metadata": {},
   "outputs": [],
   "source": [
    "service = Service( ChromeDriverManager().install( ) )\n",
    "driver = webdriver.Chrome( service = service )\n",
    "driver.maximize_window()\n",
    "\n",
    "url = f'https://appbp.contraloria.gob.pe/BuscadorCGR/Informes/Avanzado.html'\n",
    "driver.get( url )"
   ]
  },
  {
   "cell_type": "code",
   "execution_count": null,
   "id": "45107764-b828-44b4-a6db-c77a75666ac3",
   "metadata": {},
   "outputs": [],
   "source": [
    "# Obtener texto\n",
    "texto = driver.find_element( By.XPATH, '//*[@id=\"lbltotalItemsMod\"]' ).text\n",
    "texto"
   ]
  },
  {
   "cell_type": "code",
   "execution_count": null,
   "id": "984d5260-1b35-4636-996a-47e2c31ffa9e",
   "metadata": {},
   "outputs": [],
   "source": [
    "# Seleccionar un elemento y hacer click\n",
    "anio = '2017'\n",
    "\n",
    "periodo_boton = driver.find_element( By.XPATH, '//*[@id=\"aPeriodo\"]' ).click()\n",
    "\n",
    "tabla_anios   = driver.find_element( By.XPATH, '//*[@id=\"lblmenuanioconclusion\"]' )\n",
    "tabla_anios.find_element( By.XPATH, f\".//label[contains(., { anio })]\" ).click()"
   ]
  },
  {
   "cell_type": "code",
   "execution_count": null,
   "id": "cb1e2318-ca6d-4ac1-bfdb-513fc96646c8",
   "metadata": {},
   "outputs": [],
   "source": [
    "# driver.refresh()"
   ]
  },
  {
   "cell_type": "code",
   "execution_count": null,
   "id": "0bd589c7-bdda-422a-94f1-a85893ed9a53",
   "metadata": {},
   "outputs": [],
   "source": [
    "# Seleccionar varios elementos y obtener el texto\n",
    "for n in range( 1, 11 ):\n",
    "    reg = [ driver.find_element( By.XPATH, f'//*[@id=\"tablaResultadosUltimosInformes\"]/tbody/tr[{ n }]/td[1]' ).text ]\n",
    "    mod = [ driver.find_element( By.XPATH, f'//*[@id=\"tablaResultadosUltimosInformes\"]/tbody/tr[{ n }]/td[2]' ).text ]\n",
    "    print( reg, mod )"
   ]
  },
  {
   "cell_type": "markdown",
   "id": "b6a95f63-f365-43bc-b686-431b22c7a539",
   "metadata": {},
   "source": [
    "# <a id='t6'>6. MANEJO DE TIEMPOS</a> "
   ]
  },
  {
   "cell_type": "markdown",
   "id": "08615fca-7c1e-45f1-9291-2f0dd7969b70",
   "metadata": {},
   "source": [
    "## <a id='6.1.'>6.1. Time sleep</a>"
   ]
  },
  {
   "cell_type": "markdown",
   "id": "c4988757-f8d8-4728-8df1-ee9848092577",
   "metadata": {},
   "source": [
    "Permite simular el comportamiento humano, al suspender temporalmente la ejecución de los scripts."
   ]
  },
  {
   "cell_type": "code",
   "execution_count": null,
   "id": "ab4e8104-9018-49d0-b47b-6d92040d906b",
   "metadata": {},
   "outputs": [],
   "source": [
    "# driver.refresh()"
   ]
  },
  {
   "cell_type": "code",
   "execution_count": null,
   "id": "4d6b1a6b-872a-42b9-926a-f60c2a943b86",
   "metadata": {},
   "outputs": [],
   "source": [
    "anios = [ '2016', '2017', '2018', '2019' ]\n",
    "\n",
    "busqueda_periodo = driver.find_element( By.XPATH, '//*[@id=\"aPeriodo\"]' ).click()\n",
    "tabla_anios      = driver.find_element( By.XPATH, '//*[@id=\"lblmenuanioconclusion\"]' )\n",
    "for anio in anios:\n",
    "    time.sleep( 5 )\n",
    "    tabla_anios.find_element( By.XPATH, f\".//label[contains(., { anio })]\" ).click() "
   ]
  },
  {
   "cell_type": "markdown",
   "id": "f0895a8a-bb3e-4dde-bf77-c372b682fed6",
   "metadata": {},
   "source": [
    "## <a id='6.2.'>6.2. Esperas explícitas</a>   "
   ]
  },
  {
   "cell_type": "markdown",
   "id": "03ad71c3-92fa-4413-b973-2e558e5ad7c3",
   "metadata": {},
   "source": [
    "Establecen un tiempo de espera que garantiza que los elementos de la página web se hayan cargado completamente antes de interactuar con ellos. En caso interactuemos con elementos que no han cargado completamente, obtendremos el siguiente error `ElementNotVisibleException exception`. La lista de esperas explícitas es la siguiente:"
   ]
  },
  {
   "cell_type": "markdown",
   "id": "9524dd71-fe2a-4044-9aa7-1748d56bc305",
   "metadata": {},
   "source": [
    "| Método | Descripción |\n",
    "|---|---|\n",
    "|`presence_of_element_located`| Espera hasta que un elemento esté presente en el DOM de la página. No garantiza que el elemento esté visible |\n",
    "|`visibility_of_element_located`| Espera hasta que un elemento esté visible en la página, es decir, que no esté oculto y tenga una altura y ancho mayor que cero |\n",
    "|`element_to_be_clickable`| Espera hasta que un elemento esté visible y sea clickable, lo que implica que el elemento esté visible y habilitado para recibir acciones como clicks |\n",
    "|`visibility_of`| Espera hasta que un elemento esté visible y tenga un tamaño mayor que cero. Es similar a `visibility_of_element_located`, pero en lugar de proporcionar una ubicación, se utiliza directamente un elemento |\n",
    "|`presence_of_all_elements_located`| Espera hasta que todos los elementos que coincidan con el selector especificado estén presentes en el DOM de la página |\n",
    "|`text_to_be_present_in_element`| Espera hasta que un elemento contenga un determinado texto especificado |\n",
    "|`text_to_be_present_in_element_value`| Espera hasta que el valor de un elemento de entrada (input) contenga un texto específico |\n",
    "|`frame_to_be_available_and_switch_to_it`| Espera hasta que un marco (iframe) esté disponible y luego se cambia al mismo para poder interactuar con él |\n",
    "|`invisibility_of_element_located`| Espera hasta que un elemento esté oculto o no presente en el DOM de la página |\n",
    "|`staleness_of`| Espera hasta que un elemento de la página se vuelva \"stale\" (desactualizado), lo que significa que ya no es parte del DOM actual. Esto puede ocurrir cuando se actualiza o se modifica la página |\n",
    "|`element_to_be_selected`| Espera hasta que un elemento de opción (como una casilla de verificación o un botón de opción) esté seleccionado |\n",
    "|`element_located_to_be_selected`| Espera hasta que un elemento de opción ubicado por su selector esté seleccionado |\n",
    "|`element_selection_state_to_be`| Espera hasta que el estado de selección de un elemento de opción coincida con un estado específico (seleccionado o no seleccionado) |\n",
    "|`element_located_selection_state_to_be`| Espera hasta que el estado de selección de un elemento de opción ubicado por su selector coincida con un estado específico |"
   ]
  },
  {
   "cell_type": "code",
   "execution_count": null,
   "id": "3bef1d48-bb89-45d3-845a-530f65d94fb2",
   "metadata": {},
   "outputs": [],
   "source": [
    "# driver.refresh()"
   ]
  },
  {
   "cell_type": "code",
   "execution_count": null,
   "id": "b31e648b-941a-4fe7-a605-f66d574282fb",
   "metadata": {},
   "outputs": [],
   "source": [
    "from selenium.webdriver.support import expected_conditions as EC\n",
    "\n",
    "# Establecer el tiempo máximo de espera\n",
    "wait = WebDriverWait( driver, 10 )\n",
    "# Localizar y clickear el elemento\n",
    "busqueda_periodo = wait.until( EC.element_to_be_clickable( ( By.XPATH, '//*[@id=\"aPeriodo\"]' ) ) )\\\n",
    "                       .click()"
   ]
  },
  {
   "cell_type": "code",
   "execution_count": null,
   "id": "4c36806c-72c1-44ce-a00f-5b384838586f",
   "metadata": {},
   "outputs": [],
   "source": [
    "# driver.quit()"
   ]
  },
  {
   "cell_type": "markdown",
   "id": "bf7fc17f-110a-46a9-a8e0-008ed7be24c1",
   "metadata": {},
   "source": [
    "# <a id='t7'>7. APUNTES IMPORTANTES</a> "
   ]
  },
  {
   "cell_type": "markdown",
   "id": "6e3834e8-b971-45e6-bec8-7481250f430b",
   "metadata": {},
   "source": [
    "## <a id='7.1.'>7.1. Iframes</a>"
   ]
  },
  {
   "cell_type": "markdown",
   "id": "12118aa8-7152-4d6f-b72d-b543e006c948",
   "metadata": {},
   "source": [
    "Es necesario utilizar switch_to.frame() en Selenium cuando estás interactuando con elementos dentro de un marco o iframe (Inline Frame) en una página web. Los iframes son elementos HTML que permiten incrustar un documento HTML dentro de otro documento HTML."
   ]
  },
  {
   "cell_type": "markdown",
   "id": "174118d2-bf79-48d8-8304-64c4be989c19",
   "metadata": {},
   "source": [
    "### Ejemplo"
   ]
  },
  {
   "cell_type": "code",
   "execution_count": null,
   "id": "22ea41b2-137a-493a-b677-c5d1c8e3ee9c",
   "metadata": {},
   "outputs": [],
   "source": [
    "service = Service( ChromeDriverManager().install( ) )\n",
    "driver = webdriver.Chrome( service = service )\n",
    "driver.maximize_window()\n",
    "\n",
    "url = 'https://apps5.mineco.gob.pe/transparencia/Navegador/default.aspx?y=2007&ap=ActProy'\n",
    "driver.get( url )"
   ]
  },
  {
   "cell_type": "code",
   "execution_count": null,
   "id": "80db5872-c73a-4a2a-8466-bea1d05b4072",
   "metadata": {},
   "outputs": [],
   "source": [
    "# Buscar elementos <iframe> en la página\n",
    "iframes = driver.find_elements( By.TAG_NAME, \"frame\" )\n",
    "if iframes:\n",
    "    print( 'Hay iframes en la página.' )\n",
    "    for i, iframe in enumerate( iframes ):\n",
    "        iframe_html = iframe.get_attribute( 'outerHTML' )\n",
    "        print( f'Ubicación del iframe { i } en el código HTML:' )\n",
    "        print( iframe_html )\n",
    "        print('-------------------------')        \n",
    "else:\n",
    "    print( 'No se encontraron iframes en la página.' )"
   ]
  },
  {
   "cell_type": "code",
   "execution_count": null,
   "id": "ea1f504a-2170-4a2a-8fca-1320c245fd83",
   "metadata": {
    "tags": []
   },
   "outputs": [],
   "source": [
    "anio = '2009'\n",
    "seleccionar_anio = Select( driver.find_element( By.ID, \"ctl00_CPH1_DrpYear\" ) )\n",
    "seleccionar_anio.select_by_value( f'{ anio }' )"
   ]
  },
  {
   "cell_type": "code",
   "execution_count": null,
   "id": "519514c3-fdfb-4988-af4d-b2d61766ccce",
   "metadata": {},
   "outputs": [],
   "source": [
    "# Método switch_to.frame\n",
    "frame = driver.find_element( By.ID, \"frame0\" )\n",
    "driver.switch_to.frame( frame )"
   ]
  },
  {
   "cell_type": "code",
   "execution_count": null,
   "id": "c847b6e5-5bff-47e1-9719-167c33f98502",
   "metadata": {},
   "outputs": [],
   "source": [
    "anio = '2009'\n",
    "seleccionar_anio = Select( driver.find_element( By.ID, \"ctl00_CPH1_DrpYear\" ) )\n",
    "seleccionar_anio.select_by_value( f'{ anio }' )"
   ]
  },
  {
   "cell_type": "code",
   "execution_count": null,
   "id": "ba52feda-c859-4764-a775-b40dd62264d9",
   "metadata": {},
   "outputs": [],
   "source": [
    "driver.quit()"
   ]
  },
  {
   "cell_type": "markdown",
   "id": "bc058bc8-2725-4758-a021-73dedb583b93",
   "metadata": {},
   "source": [
    "## <a id='7.2.'>7.2. Maximize driver</a> "
   ]
  },
  {
   "cell_type": "code",
   "execution_count": null,
   "id": "096d44f8-2d5e-4e3c-a814-4f0ef286b4bf",
   "metadata": {},
   "outputs": [],
   "source": [
    "service = Service( ChromeDriverManager().install( ) )\n",
    "driver  = webdriver.Chrome( service = service )\n",
    "\n",
    "url = 'https://apps5.mineco.gob.pe/transparencia/Navegador/default.aspx?y=2007&ap=ActProy'\n",
    "driver.get( url )"
   ]
  },
  {
   "cell_type": "code",
   "execution_count": null,
   "id": "ec24ffac-dd06-42d7-83ee-09d621d2c898",
   "metadata": {},
   "outputs": [],
   "source": [
    "driver.maximize_window()"
   ]
  },
  {
   "cell_type": "code",
   "execution_count": null,
   "id": "bb1acd81-bbe9-4e6a-b757-5609d5a573c7",
   "metadata": {},
   "outputs": [],
   "source": [
    "# driver.quit()"
   ]
  },
  {
   "cell_type": "markdown",
   "id": "bfa43430-89e1-4bf9-9857-c9e16dd08478",
   "metadata": {},
   "source": [
    "## <a id='7.3.'>7.3. Bloques try-except</a>  "
   ]
  },
  {
   "cell_type": "markdown",
   "id": "dbe420ad-e32f-44ba-9198-1762a95b5b9d",
   "metadata": {},
   "source": [
    "Los bloques try-except permiten capturar excepciones y manejarlas de manera controlada, evitando que el programa se detenga abruptamente y permitiendo realizar acciones específicas en caso de que ocurra una excepción."
   ]
  },
  {
   "cell_type": "code",
   "execution_count": null,
   "id": "7ad94bb0-c019-4c23-b0ac-2f94c079bad4",
   "metadata": {},
   "outputs": [],
   "source": [
    "# Try-Except\n",
    "\n",
    "for i in range( 5 ):\n",
    "    try:\n",
    "        resultado = 10 / i\n",
    "        print( f'{ i } entre 10 es igual a: { resultado }' )\n",
    "    except:\n",
    "        print( f'Error: No se puede dividir entre cero' )"
   ]
  },
  {
   "cell_type": "code",
   "execution_count": null,
   "id": "dff4b128-0df0-4bcb-a040-4c239c56198c",
   "metadata": {},
   "outputs": [],
   "source": [
    "# Try-Except with Exception\n",
    "\n",
    "for i in range( 5 ):\n",
    "    try:\n",
    "        resultado = 10 / i\n",
    "        print( f'{ i } entre 10 es igual a: { resultado }' )\n",
    "    except Exception as e:\n",
    "        print( f'Error: { e }' )"
   ]
  },
  {
   "cell_type": "code",
   "execution_count": null,
   "id": "9ff1d0ba-1b41-4738-b544-ebbf0e74aeee",
   "metadata": {},
   "outputs": [],
   "source": [
    "# Try-Except-Pass\n",
    "\n",
    "for i in range( 5 ):\n",
    "    try:\n",
    "        resultado = 10 / i\n",
    "        print( f'{ i } entre 10 es igual a: { resultado }' )\n",
    "    except Exception as e:\n",
    "        pass"
   ]
  },
  {
   "cell_type": "code",
   "execution_count": null,
   "id": "c517b11b-cba3-4ae9-8156-5f16c9db6be5",
   "metadata": {},
   "outputs": [],
   "source": [
    "# Try-Except-Continue\n",
    "\n",
    "for i in range( 5 ):\n",
    "    try:\n",
    "        if i == 3:\n",
    "            continue\n",
    "        resultado = 10 / i\n",
    "        print( f'{ i } entre 10 es igual a: { resultado }' )\n",
    "    except:\n",
    "        print( f'Error: No se puede dividir entre cero' )"
   ]
  }
 ],
 "metadata": {
  "kernelspec": {
   "display_name": "Python 3 (ipykernel)",
   "language": "python",
   "name": "python3"
  },
  "language_info": {
   "codemirror_mode": {
    "name": "ipython",
    "version": 3
   },
   "file_extension": ".py",
   "mimetype": "text/x-python",
   "name": "python",
   "nbconvert_exporter": "python",
   "pygments_lexer": "ipython3",
   "version": "3.9.13"
  }
 },
 "nbformat": 4,
 "nbformat_minor": 5
}
