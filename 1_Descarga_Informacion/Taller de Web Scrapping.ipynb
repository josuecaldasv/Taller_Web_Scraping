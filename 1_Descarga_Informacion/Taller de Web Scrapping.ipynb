{
 "cells": [
  {
   "cell_type": "markdown",
   "id": "de23ac5d-af67-42c4-91fd-7f8699919d3b",
   "metadata": {},
   "source": [
    "# CONTENIDO"
   ]
  },
  {
   "cell_type": "markdown",
   "id": "e9fb79da-6465-479e-a3ef-42e885c91708",
   "metadata": {},
   "source": [
    "- <a href='#t1'>1. LIBRERÍAS</a> \n",
    "     - <a href='#1.1.'>1.1. Instalar librerías</a>\n",
    "     - <a href='#1.2.'>1.2. Importar librerías</a>\n",
    "- <a href='#t2'>2. FIJAR EL DRIVER</a> \n",
    "     - <a href='#2.1.'>2.1. Lanzar un Chrome Driver</a>\n",
    "     - <a href='#2.2.'>2.2. Primeras operaciones</a>\n",
    "- <a href='#t3'>3. LENGUAJE HTML</a> \n",
    "     - <a href='#3.1.'>3.1. Introducción</a>\n",
    "     - <a href='#3.2.'>3.2. Párrafos</a>\n",
    "     - <a href='#3.3.'>3.3. Links</a>\n",
    "     - <a href='#3.4.'>3.4. Tablas</a>\n",
    "     - <a href='#3.5.'>3.5. Iframes</a>\n",
    "     - <a href='#3.6.'>3.6. Resumen de tags</a>\n",
    "- <a href='#t4'>4. SELECCIÓN DE ELEMENTOS</a> \n",
    "     - <a href='#4.1.'>4.1. Selección de un elemento</a>\n",
    "     - <a href='#4.2.'>4.2. Selección de múltiples elementos</a>\n",
    "     - <a href='#4.3.'>4.3. Ejemplo práctico</a>\n",
    "- <a href='#t5'>5. MANEJO DE TIEMPOS</a> \n",
    "     - <a href='#5.1.'>5.1. Time sleep</a>\n",
    "     - <a href='#5.2.'>5.2. Esperas explícitas</a>     \n",
    "- <a href='#t6'>6. APUNTES IMPORTANTES</a> \n",
    "     - <a href='#6.1.'>6.1. Iframes</a>\n",
    "     - <a href='#6.2.'>6.2. Maximize driver</a>  "
   ]
  },
  {
   "cell_type": "markdown",
   "id": "50ae7e96-b0cf-449c-9bc0-a0a9fe172ca6",
   "metadata": {},
   "source": [
    "# 1. <a id='t1'>LIBRERÍAS</a>"
   ]
  },
  {
   "cell_type": "markdown",
   "id": "2b2736cb-4161-452c-94cb-fab79fe161cd",
   "metadata": {},
   "source": [
    "## 1.1. <a id='1.1.'>Instalar librerías</a>"
   ]
  },
  {
   "cell_type": "code",
   "execution_count": null,
   "id": "2ff08393-91c0-41c2-9f0f-42bef279aa7a",
   "metadata": {},
   "outputs": [],
   "source": [
    "# !pip install selenium\n",
    "# !pip install webdriver-manager"
   ]
  },
  {
   "cell_type": "markdown",
   "id": "50192f56-3044-4973-a6f4-d5be39bac1a2",
   "metadata": {},
   "source": [
    "## 1.2. <a id='1.2.'>Importar librerías</a>"
   ]
  },
  {
   "cell_type": "code",
   "execution_count": 1,
   "id": "51654d60-3066-4198-9a26-d186bda9da44",
   "metadata": {},
   "outputs": [],
   "source": [
    "# Selenium\n",
    "from selenium import webdriver\n",
    "from webdriver_manager.chrome import ChromeDriverManager\n",
    "from selenium.webdriver.chrome.service import Service\n",
    "from selenium.webdriver.common.action_chains import ActionChains\n",
    "\n",
    "# Options driver\n",
    "from selenium.webdriver.chrome.options import Options\n",
    "from selenium.webdriver.support.ui import Select\n",
    "\n",
    "# Dataframes\n",
    "import pandas as pd\n",
    "import itertools\n",
    "import json\n",
    "import re\n",
    "import numpy as np\n",
    "import itertools\n",
    "from pandas import json_normalize\n",
    "import unidecode\n",
    "\n",
    "# Simulating human behavior\n",
    "import datetime\n",
    "import time\n",
    "from time import sleep\n",
    "import random\n",
    "\n",
    "# To use explicit waits\n",
    "from selenium.webdriver.common.by import By\n",
    "from selenium.webdriver.support.ui import WebDriverWait\n",
    "from selenium.webdriver.support import expected_conditions as EC\n",
    "\n",
    "# Download files and directories\n",
    "import urllib.request\n",
    "import requests\n",
    "from openpyxl import Workbook\n",
    "import os\n",
    "from glob import glob"
   ]
  },
  {
   "cell_type": "markdown",
   "id": "2bca02dc-94b6-4a44-88bd-55bf0ead2ab9",
   "metadata": {},
   "source": [
    "# <a id='t2'>2. FIJAR EL DRIVER</a> "
   ]
  },
  {
   "cell_type": "markdown",
   "id": "2ac45f13-3875-45d2-9e02-f22f2253041c",
   "metadata": {},
   "source": [
    "## <a id='2.1.'>2.1. Lanzar un Chrome Driver</a>"
   ]
  },
  {
   "cell_type": "code",
   "execution_count": 20,
   "id": "c2c7bb45-f036-466a-86f3-874c97ecffb5",
   "metadata": {},
   "outputs": [],
   "source": [
    "# Setear el Chrome Driver Manager\n",
    "service = Service( ChromeDriverManager().install( ) )\n",
    "driver = webdriver.Chrome( service = service )\n",
    "driver.maximize_window()\n",
    "\n",
    "# Setear la URL\n",
    "url = f'https://appbp.contraloria.gob.pe/BuscadorCGR/Informes/Avanzado.html'\n",
    "driver.get( url )"
   ]
  },
  {
   "cell_type": "markdown",
   "id": "130560f3-facc-45e9-8468-3b242cd51ef7",
   "metadata": {},
   "source": [
    "## <a id='2.2.'>2.2. Primeras operaciones</a>"
   ]
  },
  {
   "cell_type": "code",
   "execution_count": 7,
   "id": "db37adf1-b248-4d55-ae4b-43bf037b0a05",
   "metadata": {},
   "outputs": [
    {
     "name": "stdout",
     "output_type": "stream",
     "text": [
      "Título: Buscador de Informes de Control | Contraloría Perú\n"
     ]
    }
   ],
   "source": [
    "# Acceder al título\n",
    "titulo_ct = driver.title\n",
    "print( f'Título: { titulo_ct }' )"
   ]
  },
  {
   "cell_type": "code",
   "execution_count": 8,
   "id": "5790af37-8b5d-4b11-b0d7-1c54e865a0c0",
   "metadata": {},
   "outputs": [
    {
     "name": "stdout",
     "output_type": "stream",
     "text": [
      "URL actual: https://appbp.contraloria.gob.pe/BuscadorCGR/Informes/Avanzado.html\n"
     ]
    }
   ],
   "source": [
    "# Acceder a la URL\n",
    "url_ct = driver.current_url\n",
    "print( f'URL actual: { url_ct }' )"
   ]
  },
  {
   "cell_type": "code",
   "execution_count": 12,
   "id": "7acb1b02-e574-4ba4-bd60-f2eb9021dc6b",
   "metadata": {},
   "outputs": [
    {
     "data": {
      "text/plain": [
       "True"
      ]
     },
     "execution_count": 12,
     "metadata": {},
     "output_type": "execute_result"
    }
   ],
   "source": [
    "# Guardar un screenshot\n",
    "driver.save_screenshot( 'images/screenshot.png' )"
   ]
  },
  {
   "cell_type": "code",
   "execution_count": 31,
   "id": "eeebf1d2-8774-4e15-9425-4a48837e670b",
   "metadata": {},
   "outputs": [],
   "source": [
    "# Refrescar la página\n",
    "driver.refresh()"
   ]
  },
  {
   "cell_type": "code",
   "execution_count": 15,
   "id": "9a81ff64-5c93-4375-b2b4-74080eb17dce",
   "metadata": {},
   "outputs": [],
   "source": [
    "# Maximizar la página\n",
    "driver.maximize_window()"
   ]
  },
  {
   "cell_type": "code",
   "execution_count": 18,
   "id": "bf70917f-b75a-4475-bb92-4e62ed26f3f0",
   "metadata": {},
   "outputs": [],
   "source": [
    "# Cerrar todas las sesiones de web driver\n",
    "driver.quit()"
   ]
  },
  {
   "cell_type": "markdown",
   "id": "4bd784b9-258a-4b7e-a195-75a7b4ad26b1",
   "metadata": {},
   "source": [
    "# <a id='t3'>3. LENGUAJE HTML</a> "
   ]
  },
  {
   "cell_type": "markdown",
   "id": "45c5a8c1-a208-469a-a222-14f97ff5789c",
   "metadata": {},
   "source": [
    "## <a id='3.1.'>3.1. Introducción</a>"
   ]
  },
  {
   "cell_type": "markdown",
   "id": "3add0390-b6f4-40aa-893e-f828ee8da450",
   "metadata": {},
   "source": [
    "1. Los documentos HTML siempre inician con `<html>` y finalizan con `</html>`.\n",
    "2. `<body></body>` constituyen la parte visible de los documentos HTML."
   ]
  },
  {
   "cell_type": "markdown",
   "id": "0c8ed27d-b7aa-4f72-99c0-feac9f2cc7bc",
   "metadata": {},
   "source": [
    "## <a id='3.2.'>3.2. Párrafos</a>"
   ]
  },
  {
   "cell_type": "markdown",
   "id": "897a6cc4-94c3-4809-b092-26c87c022ae4",
   "metadata": {},
   "source": [
    "Los párrafos HTML se define con el tag `<p>`:"
   ]
  },
  {
   "cell_type": "markdown",
   "id": "0d957bc3-d69b-4721-af7b-3357e6834f45",
   "metadata": {},
   "source": [
    "<html>\n",
    "<p>Hola.</p>\n",
    "<html>"
   ]
  },
  {
   "cell_type": "markdown",
   "id": "af98aee6-a0d8-40a9-aa94-8f7da6270b0a",
   "metadata": {},
   "source": [
    "Los saltos de línea HTML se definen como el tag `<br>`:"
   ]
  },
  {
   "cell_type": "markdown",
   "id": "5bdb07b9-6ca2-4f97-95c8-172876fedfeb",
   "metadata": {},
   "source": [
    "<html>\n",
    "<p>Hola.</p><br>\n",
    "<p>¿Cómo se encuentran?</p>\n",
    "<html>"
   ]
  },
  {
   "cell_type": "markdown",
   "id": "62f91b75-3a78-4cc4-8ffd-5de8fdb43457",
   "metadata": {},
   "source": [
    "## <a id='3.3.'>3.3. Links</a>"
   ]
  },
  {
   "cell_type": "markdown",
   "id": "1ba0ba39-5c02-4de4-a807-590734f798f5",
   "metadata": {},
   "source": [
    "Los links HTML se define con el tag `<a>`:"
   ]
  },
  {
   "cell_type": "markdown",
   "id": "aa459fa6-c2da-4fd8-bbaf-3f89e2272530",
   "metadata": {},
   "source": [
    "<a href=\"https://appbp.contraloria.gob.pe/BuscadorCGR/Informes/Avanzado.html\">Link del buscador de informes de la Contraloría</a>"
   ]
  },
  {
   "cell_type": "markdown",
   "id": "465c2777-2976-4ef6-a212-73f580422618",
   "metadata": {},
   "source": [
    "## <a id='3.4.'>3.4. Tablas</a>"
   ]
  },
  {
   "cell_type": "markdown",
   "id": "57f32fdc-940c-4c46-bf56-816046a07f6f",
   "metadata": {},
   "source": [
    "Las tablas HTML consisten en celdas dentro de filas y columnas.\n",
    "1. Las tablas HTML se definen con el tag `<table>`.\n",
    "1. Las filas se definen con el tag `<tr>`.  \n",
    "2. Los encabezados de las columnas se definen con el tag `<th>`.\n",
    "3. Las celdas de datos se definen con el tag `<td>`."
   ]
  },
  {
   "cell_type": "markdown",
   "id": "34befeb9-b98c-4518-b513-6abd9e236c92",
   "metadata": {},
   "source": [
    "<table>\n",
    "  <tr>\n",
    "    <th>Variable 1</th>\n",
    "    <th>Variable 2</th>\n",
    "    <th>Variable 3</th>\n",
    "  </tr>\n",
    "  <tr>\n",
    "    <td>Dato 1</td>\n",
    "    <td>Dato 2</td>\n",
    "    <td>Dato 3</td>\n",
    "  </tr>\n",
    "  <tr>\n",
    "    <td>Dato 4</td>\n",
    "    <td>Dato 5</td>\n",
    "    <td>Dato 6</td>\n",
    "  </tr>\n",
    "</table>\n"
   ]
  },
  {
   "cell_type": "markdown",
   "id": "f9995067-5363-49d0-93f2-8ac7adc962b7",
   "metadata": {},
   "source": [
    "## <a id='3.5.'>3.5. Iframes</a>"
   ]
  },
  {
   "cell_type": "markdown",
   "id": "bfe3a3af-74df-4fd9-b457-70a4ffdc9431",
   "metadata": {},
   "source": [
    "Se utilizan para incrustar otro documento HTML dentro de la página actual. Esencialmente, permite mostrar contenido de otra página web dentro de una ventana del navegador."
   ]
  },
  {
   "cell_type": "markdown",
   "id": "41be2424-e097-4fc0-8941-57f0f89128ea",
   "metadata": {},
   "source": [
    "<!DOCTYPE html>\n",
    "<html>\n",
    "<head>\n",
    "  <title>Ejemplo de Iframe</title>\n",
    "</head>\n",
    "<body>\n",
    "  <h1>Página principal</h1>\n",
    "  <p>A continuación se incluye un iframe incrustado:</p>\n",
    "  <iframe src=\"https://www.google.com\" width=\"800\" height=\"600\" frameborder=\"0\"></iframe>\n",
    "  <p>Fin del iframe</p>\n",
    "</body>\n",
    "</html>"
   ]
  },
  {
   "cell_type": "markdown",
   "id": "9d04e330-8ae9-4dc5-a794-6d5a296c6dbb",
   "metadata": {},
   "source": [
    "## <a id='3.6.'>3.6. Resumen de tags</a>"
   ]
  },
  {
   "cell_type": "markdown",
   "id": "87b8fc50-dbc5-4fd6-a7e8-fa965dd4fd22",
   "metadata": {},
   "source": [
    "| Tag |\tDescripción |\n",
    "|---|---|\n",
    "|`<html>` |Define el comienzo y el final de un documento HTML |\n",
    "|`head` |Contiene información meta sobre el documento HTML |   \n",
    "|`<title>` |\tDefine el título del documento HTML |\n",
    "|`<body>` | Contiene el contenido visible del documento HTML |\n",
    "|`<span>` | Define una sección en línea o un fragmento de texto |\n",
    "|`<h1>` a `<h6>`|\tDefine encabezados HTML en orden de importancia |\n",
    "|`<p>` | Define un párrafo |\n",
    "| `<a>` | Crea un enlace a otra página |\n",
    "| `<img>` | Muestra una imagen en el documento |\n",
    "| `<table>` | Crea una tabla con filas y columnas |\n",
    "| `<tr>` | Define una fila en una tabla |\n",
    "| `<th>` | Define una celda de encabezado en una tabla |\n",
    "| `<td>` | Define una celda de datos en una tabla |\n",
    "| `<ul>` | Crea una lista desordenada |\n",
    "| `<ol>` | Crea una lista ordenada |\n",
    "| `<li>` | Define un elemento de lista |\n",
    "|`<input>`| Crea un campo de entrada en un formulario |\n",
    "| `<button>` | Crea un botón interactivo |\n",
    "| `<option>` |  Define una opción de menú desplegable |\n",
    "| `<label>` | Etiqueta para un elemento de formulario |\n",
    "| `<iframe>` | Incrusta contenido de otro documento HTML dentro de la página |"
   ]
  },
  {
   "cell_type": "markdown",
   "id": "87ac5cd0-1cb7-4630-9c2c-a03d49577831",
   "metadata": {},
   "source": [
    "# <a id='t4'>4. SELECCIÓN DE ELEMENTOS</a>"
   ]
  },
  {
   "cell_type": "markdown",
   "id": "85c3e147-7c98-4119-bcf9-4c5e41ce9b67",
   "metadata": {},
   "source": [
    "## <a id='4.1.'>4.1. Selección de un elemento</a>"
   ]
  },
  {
   "cell_type": "markdown",
   "id": "212433a8-ad8a-4b73-ac22-8a086d99b28c",
   "metadata": {},
   "source": [
    "|Método|Descripción|\n",
    "|---|---|\n",
    "|find_element( By.ID, \"id\" ) | Se usa  id|\n",
    "|find_element( By.NAME, \"name\" ) | Se usa name|\n",
    "|find_element( By.XPATH, \"xpath\" ) | Se usa Xpath|\n",
    "|find_element( By.TAG_NAME, \"tag name\" ) | Se usa HTML tag|\n",
    "|find_element( By.CLASS_NAME, \"class name\" ) | Se usa class name|\n",
    "|find_element( By.CSS_SELECTOR, \"css selector\" )| Se usa selector|"
   ]
  },
  {
   "cell_type": "markdown",
   "id": "49ad6075-6fcf-4096-b791-a849b145dbe4",
   "metadata": {},
   "source": [
    "### 4.1.1. Ejemplo de selección de un elemento por id"
   ]
  },
  {
   "cell_type": "markdown",
   "id": "80f0c891-58a9-4991-bc2c-a6e39cbdb31c",
   "metadata": {},
   "source": [
    "Considérese un documento HTML como el siguiente"
   ]
  },
  {
   "cell_type": "markdown",
   "id": "d0e050fc-0457-473d-80f3-fa952c290162",
   "metadata": {},
   "source": [
    "<html>\n",
    "<head>\n",
    "  <title>FORMULARIO</title>\n",
    "</head>\n",
    "<body>\n",
    "  <form id=\"loginForm\">\n",
    "    <input name=\"username\" type=\"text\" />\n",
    "    <input name=\"password\" type=\"password\" />\n",
    "    <input name=\"continue\" type=\"submit\" value=\"Login\" />\n",
    "  </form>\n",
    "</body>\n",
    "</html>"
   ]
  },
  {
   "cell_type": "markdown",
   "id": "1e796fb8-64cb-4601-b2ed-e568f5c5f886",
   "metadata": {},
   "source": [
    "La forma de localizar el formulario mediante id sería:"
   ]
  },
  {
   "cell_type": "code",
   "execution_count": null,
   "id": "776b0bed-a238-42ff-8976-b794e7d58b4a",
   "metadata": {},
   "outputs": [],
   "source": [
    "login_form = driver.find_element( By.ID, 'loginForm' )"
   ]
  },
  {
   "cell_type": "markdown",
   "id": "4b952b12-10b0-4673-b78d-ee52edbe2f2d",
   "metadata": {},
   "source": [
    "### 4.1.2. Ejemplo de selección de un elemento por Xpath"
   ]
  },
  {
   "cell_type": "markdown",
   "id": "44a5297f-46ed-4088-988a-bb4d12ca757c",
   "metadata": {},
   "source": [
    "<html>\n",
    "<body>\n",
    "  <h1>SELECTOR</h1>\n",
    "  <button id=\"myButton\">Haz clic aquí</button>\n",
    "</body>\n",
    "</html>"
   ]
  },
  {
   "cell_type": "markdown",
   "id": "c91cae39-1e24-4cac-9997-a45d5508f1da",
   "metadata": {},
   "source": [
    "La forma de localizar el formulario mediante Xpath sería:"
   ]
  },
  {
   "cell_type": "code",
   "execution_count": 8,
   "id": "7012db75-face-4e82-8a08-fac4806bc92d",
   "metadata": {
    "collapsed": true,
    "jupyter": {
     "outputs_hidden": true
    },
    "tags": []
   },
   "outputs": [
    {
     "ename": "NameError",
     "evalue": "name 'driver' is not defined",
     "output_type": "error",
     "traceback": [
      "\u001b[1;31m---------------------------------------------------------------------------\u001b[0m",
      "\u001b[1;31mNameError\u001b[0m                                 Traceback (most recent call last)",
      "\u001b[1;32m~\\AppData\\Local\\Temp\\ipykernel_6368\\418259217.py\u001b[0m in \u001b[0;36m<module>\u001b[1;34m\u001b[0m\n\u001b[1;32m----> 1\u001b[1;33m \u001b[0mboton\u001b[0m \u001b[1;33m=\u001b[0m \u001b[0mdriver\u001b[0m\u001b[1;33m.\u001b[0m\u001b[0mfind_element\u001b[0m\u001b[1;33m(\u001b[0m \u001b[0mBy\u001b[0m\u001b[1;33m.\u001b[0m\u001b[0mID\u001b[0m\u001b[1;33m,\u001b[0m \u001b[1;34m'//button[@id=\"myButton\"]'\u001b[0m \u001b[1;33m)\u001b[0m\u001b[1;33m\u001b[0m\u001b[1;33m\u001b[0m\u001b[0m\n\u001b[0m",
      "\u001b[1;31mNameError\u001b[0m: name 'driver' is not defined"
     ]
    }
   ],
   "source": [
    "boton = driver.find_element( By.ID, '//button[@id=\"myButton\"]' )"
   ]
  },
  {
   "cell_type": "markdown",
   "id": "346224e2-1e81-4133-838e-baec4e6b3384",
   "metadata": {},
   "source": [
    "## <a id='4.2.'>4.2. Selección de múltiples elementos</a>"
   ]
  },
  {
   "cell_type": "markdown",
   "id": "e8bf3e23-fd78-4096-b653-87cbebde4a5a",
   "metadata": {},
   "source": [
    "|Método|Descripción|\n",
    "|---|---|\n",
    "|find_elements( By.ID, \"id\" ) | Se usa  id|\n",
    "|find_elements( By.NAME, \"name\" ) | Se usa name|\n",
    "|find_elements( By.XPATH, \"xpath\" ) | Se usa Xpath|\n",
    "|find_elements( By.TAG_NAME, \"tag name\" ) | Se usa HTML tag|\n",
    "|find_elements( By.CLASS_NAME, \"class name\" ) | Se usa class name|\n",
    "|find_elements( By.CSS_SELECTOR, \"css selector\" )| Se usa selector|"
   ]
  },
  {
   "cell_type": "markdown",
   "id": "7583423b-0f6c-4959-b736-5786763e3a24",
   "metadata": {},
   "source": [
    "### 4.2.1. Ejemplo de selección de un elemento por Xpath"
   ]
  },
  {
   "cell_type": "markdown",
   "id": "8a260055-89fd-4943-a4e0-6f0de1396b6f",
   "metadata": {},
   "source": [
    "<html>\n",
    "<body>\n",
    "  <h1>ELEMENTOS</h1>\n",
    "  <ol id=\"myList\">\n",
    "    <li>Elemento 1</li>\n",
    "    <li>Elemento 2</li>\n",
    "    <li>Elemento 3</li>\n",
    "  </ol>\n",
    "</body>\n",
    "</html>"
   ]
  },
  {
   "cell_type": "markdown",
   "id": "e649b6b9-f71b-4e49-9ba1-6c16c2e59a35",
   "metadata": {},
   "source": [
    "La forma de localizar los elementos mediante su Xpath sería:"
   ]
  },
  {
   "cell_type": "code",
   "execution_count": null,
   "id": "4e16b528-4a15-4dff-bcc5-748a0e783b17",
   "metadata": {},
   "outputs": [],
   "source": [
    "elements = driver.find_elements( By.XPATH, '//ol[@id=\"myList\"]/li' )\n",
    "for element in elements:\n",
    "    print( element.text )"
   ]
  },
  {
   "cell_type": "markdown",
   "id": "06d3653e-11f1-4973-ab17-a542a8cdcebb",
   "metadata": {},
   "source": [
    "## <a id='4.3.'>4.3. Ejemplo práctico</a>"
   ]
  },
  {
   "cell_type": "code",
   "execution_count": 2,
   "id": "0101ab3d-f9fc-43b0-8b33-8d8be02a9ea9",
   "metadata": {},
   "outputs": [
    {
     "name": "stderr",
     "output_type": "stream",
     "text": [
      "[WDM] - Downloading: 100%|██████████| 6.30M/6.30M [00:00<00:00, 10.3MB/s]\n"
     ]
    }
   ],
   "source": [
    "service = Service( ChromeDriverManager().install( ) )\n",
    "driver = webdriver.Chrome( service = service )\n",
    "driver.maximize_window()\n",
    "\n",
    "url = f'https://appbp.contraloria.gob.pe/BuscadorCGR/Informes/Avanzado.html'\n",
    "driver.get( url )"
   ]
  },
  {
   "cell_type": "code",
   "execution_count": 29,
   "id": "45107764-b828-44b4-a6db-c77a75666ac3",
   "metadata": {},
   "outputs": [
    {
     "data": {
      "text/plain": [
       "'185415 informes encontrados. No considera informes catalogados como secreto, reservado y/o confidencial conforme a Ley N° 27806, Ley de Transparencia y Acceso a la Información Pública.'"
      ]
     },
     "execution_count": 29,
     "metadata": {},
     "output_type": "execute_result"
    }
   ],
   "source": [
    "# Obtener texto\n",
    "texto = driver.find_element( By.XPATH, '//*[@id=\"lbltotalItemsMod\"]' ).text\n",
    "texto"
   ]
  },
  {
   "cell_type": "code",
   "execution_count": 34,
   "id": "984d5260-1b35-4636-996a-47e2c31ffa9e",
   "metadata": {},
   "outputs": [],
   "source": [
    "# Seleccionar un elemento y hacer click\n",
    "anio = '2017'\n",
    "\n",
    "busqueda_periodo = driver.find_element( By.XPATH, '//*[@id=\"aPeriodo\"]' ).click()\n",
    "tabla_anios      = driver.find_element( By.XPATH, '//*[@id=\"lblmenuanioconclusion\"]' )\n",
    "tabla_anios.find_element( By.XPATH, f\".//label[contains(., { anio })]\" ).click() "
   ]
  },
  {
   "cell_type": "code",
   "execution_count": 35,
   "id": "0bd589c7-bdda-422a-94f1-a85893ed9a53",
   "metadata": {},
   "outputs": [
    {
     "name": "stdout",
     "output_type": "stream",
     "text": [
      "['UCAYALI'] ['VISITA DE CONTROL']\n",
      "['LIMA'] ['AUDITORIA CUMPLIMIENTO']\n",
      "['LA LIBERTAD'] ['AUDITORIA CUMPLIMIENTO']\n",
      "['P. C. DEL CALLAO'] ['ACCIÓN SIMULTÁNEA']\n",
      "['LIMA'] ['VISITA DE CONTROL']\n",
      "['P. C. DEL CALLAO'] ['VISITA DE CONTROL']\n",
      "['P. C. DEL CALLAO'] ['VISITA DE CONTROL']\n",
      "['MOQUEGUA'] ['AUDITORIA FINANCIERA']\n",
      "['P. C. DEL CALLAO'] ['ACCIÓN SIMULTÁNEA']\n",
      "['P. C. DEL CALLAO'] ['VISITA DE CONTROL']\n"
     ]
    }
   ],
   "source": [
    "# Seleccionar varios elementos y obtener el texto\n",
    "# driver.refresh()\n",
    "for n in range( 1, 11 ):\n",
    "    reg = [ driver.find_element( By.XPATH, f'//*[@id=\"tablaResultadosUltimosInformes\"]/tbody/tr[{ n }]/td[1]' ).text ]\n",
    "    mod = [ driver.find_element( By.XPATH, f'//*[@id=\"tablaResultadosUltimosInformes\"]/tbody/tr[{ n }]/td[2]' ).text ]\n",
    "    print( reg, mod )"
   ]
  },
  {
   "cell_type": "markdown",
   "id": "b6a95f63-f365-43bc-b686-431b22c7a539",
   "metadata": {},
   "source": [
    "# <a id='t5'>5. MANEJO DE TIEMPOS</a> "
   ]
  },
  {
   "cell_type": "markdown",
   "id": "08615fca-7c1e-45f1-9291-2f0dd7969b70",
   "metadata": {},
   "source": [
    "## <a id='5.1.'>5.1. Time sleep</a>"
   ]
  },
  {
   "cell_type": "markdown",
   "id": "c4988757-f8d8-4728-8df1-ee9848092577",
   "metadata": {},
   "source": [
    "Permite simular el comportamiento humano, al suspender temporalmente la ejecución de los scripts."
   ]
  },
  {
   "cell_type": "code",
   "execution_count": 4,
   "id": "4d6b1a6b-872a-42b9-926a-f60c2a943b86",
   "metadata": {},
   "outputs": [],
   "source": [
    "# driver.refresh()\n",
    "anios = [ '2016', '2017', '2018', '2019' ]\n",
    "\n",
    "busqueda_periodo = driver.find_element( By.XPATH, '//*[@id=\"aPeriodo\"]' ).click()\n",
    "tabla_anios      = driver.find_element( By.XPATH, '//*[@id=\"lblmenuanioconclusion\"]' )\n",
    "for anio in anios:\n",
    "    time.sleep( 5 )\n",
    "    tabla_anios.location_once_scrolled_into_view\n",
    "    tabla_anios.find_element( By.XPATH, f\".//label[contains(., { anio })]\").click() "
   ]
  },
  {
   "cell_type": "markdown",
   "id": "f0895a8a-bb3e-4dde-bf77-c372b682fed6",
   "metadata": {},
   "source": [
    "## <a id='5.2.'>5.2. Esperas explícitas</a>   "
   ]
  },
  {
   "cell_type": "markdown",
   "id": "03ad71c3-92fa-4413-b973-2e558e5ad7c3",
   "metadata": {},
   "source": [
    "Establecen un tiempo de espera que garantiza que los elementos de la página web se hayan cargado completamente antes de interactuar con ellos. En caso interactuemos con elementos que no han cargado completamente, obtendremos el siguiente error `ElementNotVisibleException exception`. La lista de esperas explícitas es la siguiente:"
   ]
  },
  {
   "cell_type": "markdown",
   "id": "9524dd71-fe2a-4044-9aa7-1748d56bc305",
   "metadata": {},
   "source": [
    "1. presence_of_element_located\n",
    "2. visibility_of_element_located\n",
    "3. element_to_be_clickable\n",
    "4. visibility_of\n",
    "5. presence_of_all_elements_located\n",
    "6. text_to_be_present_in_element\n",
    "7. text_to_be_present_in_element_value\n",
    "8. frame_to_be_available_and_switch_to_it\n",
    "9. invisibility_of_element_located\n",
    "10. element_to_be_clickable\n",
    "11. staleness_of\n",
    "12. element_to_be_selected\n",
    "13. element_located_to_be_selected\n",
    "14. element_selection_state_to_be\n",
    "15. element_located_selection_state_to_be"
   ]
  },
  {
   "cell_type": "code",
   "execution_count": 6,
   "id": "b31e648b-941a-4fe7-a605-f66d574282fb",
   "metadata": {},
   "outputs": [],
   "source": [
    "# driver.refresh()\n",
    "from selenium.webdriver.support import expected_conditions as EC\n",
    "\n",
    "# Establecer el tiempo máximo de espera\n",
    "wait = WebDriverWait( driver, 10 )\n",
    "# Localizar y clickear el elemento\n",
    "busqueda_periodo = wait.until( EC.element_to_be_clickable( ( By.XPATH, '//*[@id=\"aPeriodo\"]' ) ) )\\\n",
    "                       .click()"
   ]
  },
  {
   "cell_type": "code",
   "execution_count": null,
   "id": "4c36806c-72c1-44ce-a00f-5b384838586f",
   "metadata": {},
   "outputs": [],
   "source": [
    "# driver.quit()"
   ]
  },
  {
   "cell_type": "markdown",
   "id": "bf7fc17f-110a-46a9-a8e0-008ed7be24c1",
   "metadata": {},
   "source": [
    "# <a id='t6'>6. APUNTES IMPORTANTES</a> "
   ]
  },
  {
   "cell_type": "markdown",
   "id": "6e3834e8-b971-45e6-bec8-7481250f430b",
   "metadata": {},
   "source": [
    "## <a id='6.1.'>6.1. Iframes</a>"
   ]
  },
  {
   "cell_type": "markdown",
   "id": "12118aa8-7152-4d6f-b72d-b543e006c948",
   "metadata": {},
   "source": [
    "Es necesario utilizar switch_to.frame() en Selenium cuando estás interactuando con elementos dentro de un marco o iframe (Inline Frame) en una página web. Los iframes son elementos HTML que permiten incrustar un documento HTML dentro de otro documento HTML."
   ]
  },
  {
   "cell_type": "markdown",
   "id": "174118d2-bf79-48d8-8304-64c4be989c19",
   "metadata": {},
   "source": [
    "### Ejemplo"
   ]
  },
  {
   "cell_type": "code",
   "execution_count": 30,
   "id": "22ea41b2-137a-493a-b677-c5d1c8e3ee9c",
   "metadata": {},
   "outputs": [],
   "source": [
    "service = Service( ChromeDriverManager().install( ) )\n",
    "driver = webdriver.Chrome( service = service )\n",
    "driver.maximize_window()\n",
    "\n",
    "url = 'https://apps5.mineco.gob.pe/transparencia/Navegador/default.aspx?y=2007&ap=ActProy'\n",
    "driver.get( url )"
   ]
  },
  {
   "cell_type": "code",
   "execution_count": 31,
   "id": "80db5872-c73a-4a2a-8466-bea1d05b4072",
   "metadata": {},
   "outputs": [
    {
     "name": "stdout",
     "output_type": "stream",
     "text": [
      "Hay iframes en la página.\n",
      "Ubicación del iframe 0 en el código HTML:\n",
      "<frame name=\"frame0\" id=\"frame0\" src=\"Navegar.aspx?y=2007&amp;ap=ActProy\" scrolling=\"yes\">\n",
      "-------------------------\n"
     ]
    }
   ],
   "source": [
    "# Buscar elementos <iframe> en la página\n",
    "iframes = driver.find_elements( By.TAG_NAME, \"frame\" )\n",
    "if iframes:\n",
    "    print( 'Hay iframes en la página.' )\n",
    "    for i, iframe in enumerate( iframes ):\n",
    "        iframe_html = iframe.get_attribute( 'outerHTML' )\n",
    "        print( f'Ubicación del iframe { i } en el código HTML:' )\n",
    "        print( iframe_html )\n",
    "        print('-------------------------')        \n",
    "else:\n",
    "    print( 'No se encontraron iframes en la página.' )"
   ]
  },
  {
   "cell_type": "code",
   "execution_count": 27,
   "id": "ea1f504a-2170-4a2a-8fca-1320c245fd83",
   "metadata": {
    "collapsed": true,
    "jupyter": {
     "outputs_hidden": true
    },
    "tags": []
   },
   "outputs": [
    {
     "ename": "NoSuchElementException",
     "evalue": "Message: no such element: Unable to locate element: {\"method\":\"css selector\",\"selector\":\"[id=\"ctl00_CPH1_DrpYear\"]\"}\n  (Session info: chrome=114.0.5735.199)\nStacktrace:\nBacktrace:\n\tGetHandleVerifier [0x011FA813+48355]\n\t(No symbol) [0x0118C4B1]\n\t(No symbol) [0x01095358]\n\t(No symbol) [0x010C09A5]\n\t(No symbol) [0x010C0B3B]\n\t(No symbol) [0x010EE232]\n\t(No symbol) [0x010DA784]\n\t(No symbol) [0x010EC922]\n\t(No symbol) [0x010DA536]\n\t(No symbol) [0x010B82DC]\n\t(No symbol) [0x010B93DD]\n\tGetHandleVerifier [0x0145AABD+2539405]\n\tGetHandleVerifier [0x0149A78F+2800735]\n\tGetHandleVerifier [0x0149456C+2775612]\n\tGetHandleVerifier [0x012851E0+616112]\n\t(No symbol) [0x01195F8C]\n\t(No symbol) [0x01192328]\n\t(No symbol) [0x0119240B]\n\t(No symbol) [0x01184FF7]\n\tBaseThreadInitThunk [0x75A800C9+25]\n\tRtlGetAppContainerNamedObjectPath [0x76F17B4E+286]\n\tRtlGetAppContainerNamedObjectPath [0x76F17B1E+238]\n",
     "output_type": "error",
     "traceback": [
      "\u001b[1;31m---------------------------------------------------------------------------\u001b[0m",
      "\u001b[1;31mNoSuchElementException\u001b[0m                    Traceback (most recent call last)",
      "\u001b[1;32m~\\AppData\\Local\\Temp\\ipykernel_19512\\753181763.py\u001b[0m in \u001b[0;36m<module>\u001b[1;34m\u001b[0m\n\u001b[0;32m      1\u001b[0m \u001b[0manio\u001b[0m \u001b[1;33m=\u001b[0m \u001b[1;34m'2009'\u001b[0m\u001b[1;33m\u001b[0m\u001b[1;33m\u001b[0m\u001b[0m\n\u001b[1;32m----> 2\u001b[1;33m \u001b[0mseleccionar_anio\u001b[0m \u001b[1;33m=\u001b[0m \u001b[0mSelect\u001b[0m\u001b[1;33m(\u001b[0m \u001b[0mdriver\u001b[0m\u001b[1;33m.\u001b[0m\u001b[0mfind_element\u001b[0m\u001b[1;33m(\u001b[0m \u001b[0mBy\u001b[0m\u001b[1;33m.\u001b[0m\u001b[0mID\u001b[0m\u001b[1;33m,\u001b[0m \u001b[1;34m\"ctl00_CPH1_DrpYear\"\u001b[0m \u001b[1;33m)\u001b[0m \u001b[1;33m)\u001b[0m\u001b[1;33m\u001b[0m\u001b[1;33m\u001b[0m\u001b[0m\n\u001b[0m\u001b[0;32m      3\u001b[0m \u001b[0mseleccionar_anio\u001b[0m\u001b[1;33m.\u001b[0m\u001b[0mselect_by_value\u001b[0m\u001b[1;33m(\u001b[0m \u001b[1;34mf'{ anio }'\u001b[0m \u001b[1;33m)\u001b[0m\u001b[1;33m\u001b[0m\u001b[1;33m\u001b[0m\u001b[0m\n",
      "\u001b[1;32mC:\\Anaconda\\lib\\site-packages\\selenium\\webdriver\\remote\\webdriver.py\u001b[0m in \u001b[0;36mfind_element\u001b[1;34m(self, by, value)\u001b[0m\n\u001b[0;32m    828\u001b[0m             \u001b[0mvalue\u001b[0m \u001b[1;33m=\u001b[0m \u001b[1;34mf'[name=\"{value}\"]'\u001b[0m\u001b[1;33m\u001b[0m\u001b[1;33m\u001b[0m\u001b[0m\n\u001b[0;32m    829\u001b[0m \u001b[1;33m\u001b[0m\u001b[0m\n\u001b[1;32m--> 830\u001b[1;33m         \u001b[1;32mreturn\u001b[0m \u001b[0mself\u001b[0m\u001b[1;33m.\u001b[0m\u001b[0mexecute\u001b[0m\u001b[1;33m(\u001b[0m\u001b[0mCommand\u001b[0m\u001b[1;33m.\u001b[0m\u001b[0mFIND_ELEMENT\u001b[0m\u001b[1;33m,\u001b[0m \u001b[1;33m{\u001b[0m\u001b[1;34m\"using\"\u001b[0m\u001b[1;33m:\u001b[0m \u001b[0mby\u001b[0m\u001b[1;33m,\u001b[0m \u001b[1;34m\"value\"\u001b[0m\u001b[1;33m:\u001b[0m \u001b[0mvalue\u001b[0m\u001b[1;33m}\u001b[0m\u001b[1;33m)\u001b[0m\u001b[1;33m[\u001b[0m\u001b[1;34m\"value\"\u001b[0m\u001b[1;33m]\u001b[0m\u001b[1;33m\u001b[0m\u001b[1;33m\u001b[0m\u001b[0m\n\u001b[0m\u001b[0;32m    831\u001b[0m \u001b[1;33m\u001b[0m\u001b[0m\n\u001b[0;32m    832\u001b[0m     \u001b[1;32mdef\u001b[0m \u001b[0mfind_elements\u001b[0m\u001b[1;33m(\u001b[0m\u001b[0mself\u001b[0m\u001b[1;33m,\u001b[0m \u001b[0mby\u001b[0m\u001b[1;33m=\u001b[0m\u001b[0mBy\u001b[0m\u001b[1;33m.\u001b[0m\u001b[0mID\u001b[0m\u001b[1;33m,\u001b[0m \u001b[0mvalue\u001b[0m\u001b[1;33m:\u001b[0m \u001b[0mOptional\u001b[0m\u001b[1;33m[\u001b[0m\u001b[0mstr\u001b[0m\u001b[1;33m]\u001b[0m \u001b[1;33m=\u001b[0m \u001b[1;32mNone\u001b[0m\u001b[1;33m)\u001b[0m \u001b[1;33m->\u001b[0m \u001b[0mList\u001b[0m\u001b[1;33m[\u001b[0m\u001b[0mWebElement\u001b[0m\u001b[1;33m]\u001b[0m\u001b[1;33m:\u001b[0m\u001b[1;33m\u001b[0m\u001b[1;33m\u001b[0m\u001b[0m\n",
      "\u001b[1;32mC:\\Anaconda\\lib\\site-packages\\selenium\\webdriver\\remote\\webdriver.py\u001b[0m in \u001b[0;36mexecute\u001b[1;34m(self, driver_command, params)\u001b[0m\n\u001b[0;32m    438\u001b[0m         \u001b[0mresponse\u001b[0m \u001b[1;33m=\u001b[0m \u001b[0mself\u001b[0m\u001b[1;33m.\u001b[0m\u001b[0mcommand_executor\u001b[0m\u001b[1;33m.\u001b[0m\u001b[0mexecute\u001b[0m\u001b[1;33m(\u001b[0m\u001b[0mdriver_command\u001b[0m\u001b[1;33m,\u001b[0m \u001b[0mparams\u001b[0m\u001b[1;33m)\u001b[0m\u001b[1;33m\u001b[0m\u001b[1;33m\u001b[0m\u001b[0m\n\u001b[0;32m    439\u001b[0m         \u001b[1;32mif\u001b[0m \u001b[0mresponse\u001b[0m\u001b[1;33m:\u001b[0m\u001b[1;33m\u001b[0m\u001b[1;33m\u001b[0m\u001b[0m\n\u001b[1;32m--> 440\u001b[1;33m             \u001b[0mself\u001b[0m\u001b[1;33m.\u001b[0m\u001b[0merror_handler\u001b[0m\u001b[1;33m.\u001b[0m\u001b[0mcheck_response\u001b[0m\u001b[1;33m(\u001b[0m\u001b[0mresponse\u001b[0m\u001b[1;33m)\u001b[0m\u001b[1;33m\u001b[0m\u001b[1;33m\u001b[0m\u001b[0m\n\u001b[0m\u001b[0;32m    441\u001b[0m             \u001b[0mresponse\u001b[0m\u001b[1;33m[\u001b[0m\u001b[1;34m\"value\"\u001b[0m\u001b[1;33m]\u001b[0m \u001b[1;33m=\u001b[0m \u001b[0mself\u001b[0m\u001b[1;33m.\u001b[0m\u001b[0m_unwrap_value\u001b[0m\u001b[1;33m(\u001b[0m\u001b[0mresponse\u001b[0m\u001b[1;33m.\u001b[0m\u001b[0mget\u001b[0m\u001b[1;33m(\u001b[0m\u001b[1;34m\"value\"\u001b[0m\u001b[1;33m,\u001b[0m \u001b[1;32mNone\u001b[0m\u001b[1;33m)\u001b[0m\u001b[1;33m)\u001b[0m\u001b[1;33m\u001b[0m\u001b[1;33m\u001b[0m\u001b[0m\n\u001b[0;32m    442\u001b[0m             \u001b[1;32mreturn\u001b[0m \u001b[0mresponse\u001b[0m\u001b[1;33m\u001b[0m\u001b[1;33m\u001b[0m\u001b[0m\n",
      "\u001b[1;32mC:\\Anaconda\\lib\\site-packages\\selenium\\webdriver\\remote\\errorhandler.py\u001b[0m in \u001b[0;36mcheck_response\u001b[1;34m(self, response)\u001b[0m\n\u001b[0;32m    243\u001b[0m                 \u001b[0malert_text\u001b[0m \u001b[1;33m=\u001b[0m \u001b[0mvalue\u001b[0m\u001b[1;33m[\u001b[0m\u001b[1;34m\"alert\"\u001b[0m\u001b[1;33m]\u001b[0m\u001b[1;33m.\u001b[0m\u001b[0mget\u001b[0m\u001b[1;33m(\u001b[0m\u001b[1;34m\"text\"\u001b[0m\u001b[1;33m)\u001b[0m\u001b[1;33m\u001b[0m\u001b[1;33m\u001b[0m\u001b[0m\n\u001b[0;32m    244\u001b[0m             \u001b[1;32mraise\u001b[0m \u001b[0mexception_class\u001b[0m\u001b[1;33m(\u001b[0m\u001b[0mmessage\u001b[0m\u001b[1;33m,\u001b[0m \u001b[0mscreen\u001b[0m\u001b[1;33m,\u001b[0m \u001b[0mstacktrace\u001b[0m\u001b[1;33m,\u001b[0m \u001b[0malert_text\u001b[0m\u001b[1;33m)\u001b[0m  \u001b[1;31m# type: ignore[call-arg]  # mypy is not smart enough here\u001b[0m\u001b[1;33m\u001b[0m\u001b[1;33m\u001b[0m\u001b[0m\n\u001b[1;32m--> 245\u001b[1;33m         \u001b[1;32mraise\u001b[0m \u001b[0mexception_class\u001b[0m\u001b[1;33m(\u001b[0m\u001b[0mmessage\u001b[0m\u001b[1;33m,\u001b[0m \u001b[0mscreen\u001b[0m\u001b[1;33m,\u001b[0m \u001b[0mstacktrace\u001b[0m\u001b[1;33m)\u001b[0m\u001b[1;33m\u001b[0m\u001b[1;33m\u001b[0m\u001b[0m\n\u001b[0m",
      "\u001b[1;31mNoSuchElementException\u001b[0m: Message: no such element: Unable to locate element: {\"method\":\"css selector\",\"selector\":\"[id=\"ctl00_CPH1_DrpYear\"]\"}\n  (Session info: chrome=114.0.5735.199)\nStacktrace:\nBacktrace:\n\tGetHandleVerifier [0x011FA813+48355]\n\t(No symbol) [0x0118C4B1]\n\t(No symbol) [0x01095358]\n\t(No symbol) [0x010C09A5]\n\t(No symbol) [0x010C0B3B]\n\t(No symbol) [0x010EE232]\n\t(No symbol) [0x010DA784]\n\t(No symbol) [0x010EC922]\n\t(No symbol) [0x010DA536]\n\t(No symbol) [0x010B82DC]\n\t(No symbol) [0x010B93DD]\n\tGetHandleVerifier [0x0145AABD+2539405]\n\tGetHandleVerifier [0x0149A78F+2800735]\n\tGetHandleVerifier [0x0149456C+2775612]\n\tGetHandleVerifier [0x012851E0+616112]\n\t(No symbol) [0x01195F8C]\n\t(No symbol) [0x01192328]\n\t(No symbol) [0x0119240B]\n\t(No symbol) [0x01184FF7]\n\tBaseThreadInitThunk [0x75A800C9+25]\n\tRtlGetAppContainerNamedObjectPath [0x76F17B4E+286]\n\tRtlGetAppContainerNamedObjectPath [0x76F17B1E+238]\n"
     ]
    }
   ],
   "source": [
    "anio = '2009'\n",
    "seleccionar_anio = Select( driver.find_element( By.ID, \"ctl00_CPH1_DrpYear\" ) )\n",
    "seleccionar_anio.select_by_value( f'{ anio }' )"
   ]
  },
  {
   "cell_type": "code",
   "execution_count": 28,
   "id": "519514c3-fdfb-4988-af4d-b2d61766ccce",
   "metadata": {},
   "outputs": [],
   "source": [
    "# Método switch_to.frame\n",
    "frame = driver.find_element( By.ID, \"frame0\" )\n",
    "driver.switch_to.frame( frame )"
   ]
  },
  {
   "cell_type": "code",
   "execution_count": 29,
   "id": "c847b6e5-5bff-47e1-9719-167c33f98502",
   "metadata": {},
   "outputs": [],
   "source": [
    "anio = '2009'\n",
    "seleccionar_anio = Select( driver.find_element( By.ID, \"ctl00_CPH1_DrpYear\" ) )\n",
    "seleccionar_anio.select_by_value( f'{ anio }' )"
   ]
  },
  {
   "cell_type": "code",
   "execution_count": 44,
   "id": "ba52feda-c859-4764-a775-b40dd62264d9",
   "metadata": {},
   "outputs": [],
   "source": [
    "# driver.quit()"
   ]
  },
  {
   "cell_type": "markdown",
   "id": "bc058bc8-2725-4758-a021-73dedb583b93",
   "metadata": {},
   "source": [
    "## <a id='6.2.'>6.2. Maximize driver</a> "
   ]
  },
  {
   "cell_type": "code",
   "execution_count": 45,
   "id": "096d44f8-2d5e-4e3c-a814-4f0ef286b4bf",
   "metadata": {},
   "outputs": [],
   "source": [
    "service = Service( ChromeDriverManager().install( ) )\n",
    "driver  = webdriver.Chrome( service = service )\n",
    "\n",
    "url = 'https://apps5.mineco.gob.pe/transparencia/Navegador/default.aspx?y=2007&ap=ActProy'\n",
    "driver.get( url )"
   ]
  },
  {
   "cell_type": "code",
   "execution_count": 46,
   "id": "ec24ffac-dd06-42d7-83ee-09d621d2c898",
   "metadata": {},
   "outputs": [],
   "source": [
    "driver.maximize_window()"
   ]
  },
  {
   "cell_type": "code",
   "execution_count": null,
   "id": "bb1acd81-bbe9-4e6a-b757-5609d5a573c7",
   "metadata": {},
   "outputs": [],
   "source": [
    "# driver.quit()"
   ]
  },
  {
   "cell_type": "markdown",
   "id": "e524b50a-b451-41ce-913f-a1e36e3cf445",
   "metadata": {},
   "source": [
    "## 6.3. Set the browser level"
   ]
  },
  {
   "cell_type": "markdown",
   "id": "81fa9ef1-8ee2-478d-a489-c53240aa6257",
   "metadata": {},
   "source": [
    "TEMARIO\n",
    "•\tLibrerías: instalar e importar\n",
    "•\tSetear un driver\n",
    "•\tObtener cosas básicas: url, título, refresh\n",
    "•\tHTML información:\n",
    "o\tPárrafos\n",
    "o\tLinks\n",
    "o\tTablas\n",
    "o\tIframes\n",
    "•\tEncontrar elementos y hacer click\n",
    "•\tApuntes importantes: iframe, maximize driver, set the browser level zoom at 100%\n",
    "* Explicit waits\n",
    "* Time Sleep\n",
    "METODOLOGÍA\n",
    "•\tVoy a explicar los módulos, y después de cada módulo haré una pausa en la que podrán absolver sus dudas e inquietudes\n"
   ]
  }
 ],
 "metadata": {
  "kernelspec": {
   "display_name": "Python 3 (ipykernel)",
   "language": "python",
   "name": "python3"
  },
  "language_info": {
   "codemirror_mode": {
    "name": "ipython",
    "version": 3
   },
   "file_extension": ".py",
   "mimetype": "text/x-python",
   "name": "python",
   "nbconvert_exporter": "python",
   "pygments_lexer": "ipython3",
   "version": "3.9.13"
  }
 },
 "nbformat": 4,
 "nbformat_minor": 5
}
